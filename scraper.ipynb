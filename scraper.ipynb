{
 "cells": [
  {
   "cell_type": "code",
   "execution_count": 36,
   "metadata": {},
   "outputs": [
    {
     "name": "stdout",
     "output_type": "stream",
     "text": [
      "done\n"
     ]
    }
   ],
   "source": [
    "import requests\n",
    "from bs4 import BeautifulSoup\n",
    "import csv\n",
    "\n",
    "team = \"fairleigh-dickinson\"\n",
    "adv = True\n",
    "year = 2023\n",
    "\n",
    "# Fetch the webpage\n",
    "if not adv:\n",
    "    url = \"https://www.sports-reference.com/cbb/schools/\" + str(team) + \"/men/\" + str(year) + \"-gamelogs.html\"\n",
    "else:\n",
    "    url = \"https://www.sports-reference.com/cbb/schools/\" + str(team) + \"/men/\" + str(year) + \"-gamelogs-advanced.html\"\n",
    "\n",
    "response = requests.get(url)\n",
    "\n",
    "# Parse the HTML\n",
    "soup = BeautifulSoup(response.content, \"html.parser\")\n",
    "\n",
    "# Find the target table\n",
    "if not adv:\n",
    "    table = soup.find(\"table\", {\"id\": \"sgl-basic_NCAAM\"})\n",
    "else: \n",
    "    table = soup.find(\"table\", {\"id\": \"sgl-advanced\"})\n",
    "\n",
    "# Extract header row\n",
    "headers = [th.text.strip() for th in table.find_all(\"tr\")[1].find_all(\"th\")]\n",
    "\n",
    "# Extract data from remaining rows\n",
    "data = []\n",
    "for row in table.find_all(\"tr\")[1:]:  # Skip header row\n",
    "    cells = row.find_all(\"td\")\n",
    "    data_row = [cell.text.strip() for cell in cells]\n",
    "    data.append(data_row)\n",
    "\n",
    "\n",
    "\n",
    "file = f\"{team}_{'adv_' if adv else 'gamelog_'}{year}.csv\"\n",
    "\n",
    "with open(file, \"w\", newline=\"\") as csvfile:\n",
    "    writer = csv.writer(csvfile)\n",
    "    writer.writerow(headers)\n",
    "    writer.writerows(data)\n",
    "\n",
    "print(\"done\")"
   ]
  },
  {
   "cell_type": "code",
   "execution_count": null,
   "metadata": {},
   "outputs": [],
   "source": []
  }
 ],
 "metadata": {
  "kernelspec": {
   "display_name": "Python 3",
   "language": "python",
   "name": "python3"
  },
  "language_info": {
   "codemirror_mode": {
    "name": "ipython",
    "version": 3
   },
   "file_extension": ".py",
   "mimetype": "text/x-python",
   "name": "python",
   "nbconvert_exporter": "python",
   "pygments_lexer": "ipython3",
   "version": "3.10.11"
  }
 },
 "nbformat": 4,
 "nbformat_minor": 2
}
