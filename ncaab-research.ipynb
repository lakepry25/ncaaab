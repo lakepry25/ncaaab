{
 "cells": [
  {
   "cell_type": "code",
   "execution_count": null,
   "id": "50c2a9e7",
   "metadata": {},
   "outputs": [],
   "source": [
    "import copy, math\n",
    "import pandas as pd\n",
    "import numpy as np\n",
    "import matplotlib.pyplot as plt\n",
    "\n",
    "import os\n",
    "\n",
    "file_name = 'wisconsin'\n",
    "csv_path = './team_adv_stats_avg/' + str(file_name) + '.csv'"
   ]
  },
  {
   "cell_type": "code",
   "execution_count": null,
   "id": "819e1a94",
   "metadata": {},
   "outputs": [],
   "source": [
    "df = pd.read_csv('./team_stats/' + str(file_name) + '_adv_2023.csv')\n",
    "\n",
    "df.drop(['Tm', 'Opp.1', 'W/L'], axis=1, inplace=True)\n",
    "\n",
    "df = df.loc[:, ~df.columns.str.startswith('Unnamed')]\n",
    "\n",
    "df.columns"
   ]
  },
  {
   "cell_type": "code",
   "execution_count": null,
   "id": "65d9ff58",
   "metadata": {},
   "outputs": [],
   "source": [
    "column_rename_mapping = {'Date': 'Date', 'Opp': 'Opp', 'Tm': 'Tm', 'Opp.1': 'Opp_Score', 'ORtg': 'ORtg', 'DRtg': 'DRtg', 'Pace': 'Pace', 'FTr': 'FTr', '3PAr': '3PAr',\n",
    "       'TS%': 'TS%', 'TRB%': 'TRB%', 'AST%': 'AST%', 'STL%': 'STL%', 'BLK%': 'BLK%', 'eFG%': 'eFG%', 'TOV%': 'TOV%', 'ORB%': 'ORB%', 'FT/FGA': 'FT/FGA',\n",
    "       'eFG%.1': 'Opp_eFG%.1', 'TOV%.1': 'Opp_TOV%', 'DRB%': 'DRB%', 'FT/FGA.1': 'Opp_FT/FGA'}\n",
    "\n",
    "df.rename(columns=column_rename_mapping, inplace=True)\n",
    "\n",
    "df"
   ]
  },
  {
   "cell_type": "code",
   "execution_count": null,
   "id": "332bff73",
   "metadata": {},
   "outputs": [],
   "source": [
    "averages_df = df.copy()\n",
    "\n",
    "for i in range(4, len(df)):\n",
    "    averages_df.loc[i, df.columns[2:]] = df.loc[i-4:i, df.columns[1:]].mean()\n",
    "\n",
    "averages_df"
   ]
  },
  {
   "cell_type": "code",
   "execution_count": null,
   "id": "d2a200b4",
   "metadata": {},
   "outputs": [],
   "source": [
    "averages_df.to_csv(csv_path, index=False)"
   ]
  },
  {
   "cell_type": "code",
   "execution_count": null,
   "id": "99933891",
   "metadata": {},
   "outputs": [],
   "source": []
  }
 ],
 "metadata": {
  "kernelspec": {
   "display_name": "Python 3 (ipykernel)",
   "language": "python",
   "name": "python3"
  },
  "language_info": {
   "codemirror_mode": {
    "name": "ipython",
    "version": 3
   },
   "file_extension": ".py",
   "mimetype": "text/x-python",
   "name": "python",
   "nbconvert_exporter": "python",
   "pygments_lexer": "ipython3",
   "version": "3.10.11"
  }
 },
 "nbformat": 4,
 "nbformat_minor": 5
}
