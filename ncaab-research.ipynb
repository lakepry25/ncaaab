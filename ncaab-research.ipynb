{
 "cells": [
  {
   "cell_type": "code",
   "execution_count": 44,
   "id": "50c2a9e7",
   "metadata": {},
   "outputs": [],
   "source": [
    "import copy, math\n",
    "import pandas as pd\n",
    "import numpy as np\n",
    "import matplotlib.pyplot as plt\n",
    "\n",
    "import os"
   ]
  },
  {
   "cell_type": "code",
   "execution_count": 45,
   "id": "819e1a94",
   "metadata": {},
   "outputs": [],
   "source": [
    "purdue_df = pd.read_csv('./team_stats/purdue_gamelog_2023.csv')"
   ]
  },
  {
   "cell_type": "code",
   "execution_count": 46,
   "id": "ed89e583",
   "metadata": {},
   "outputs": [
    {
     "data": {
      "text/plain": [
       "Index(['Date', 'Opp', 'Tm', 'Opp.1', 'FG', 'FGA', 'FG%', '3P', '3PA', '3P%',\n",
       "       'FT', 'FTA', 'FT%', 'ORB', 'TRB', 'AST', 'STL', 'BLK', 'TOV', 'PF',\n",
       "       'FG.1', 'FGA.1', 'FG%.1', '3P.1', '3PA.1', '3P%.1', 'FT.1', 'FTA.1',\n",
       "       'FT%.1', 'ORB.1', 'TRB.1', 'AST.1', 'STL.1', 'BLK.1', 'TOV.1', 'PF.1'],\n",
       "      dtype='object')"
      ]
     },
     "execution_count": 46,
     "metadata": {},
     "output_type": "execute_result"
    }
   ],
   "source": [
    "#print(purdue_df.columns)\n",
    "\n",
    "columns_to_drop = ['Unnamed: 1', 'Unnamed: 22', 'W/L']\n",
    "\n",
    "purdue_df.drop(columns_to_drop, inplace=True, axis=1)\n",
    "\n",
    "purdue_df.columns"
   ]
  },
  {
   "cell_type": "code",
   "execution_count": 47,
   "id": "3f940b95",
   "metadata": {},
   "outputs": [
    {
     "data": {
      "text/html": [
       "<div>\n",
       "<style scoped>\n",
       "    .dataframe tbody tr th:only-of-type {\n",
       "        vertical-align: middle;\n",
       "    }\n",
       "\n",
       "    .dataframe tbody tr th {\n",
       "        vertical-align: top;\n",
       "    }\n",
       "\n",
       "    .dataframe thead th {\n",
       "        text-align: right;\n",
       "    }\n",
       "</style>\n",
       "<table border=\"1\" class=\"dataframe\">\n",
       "  <thead>\n",
       "    <tr style=\"text-align: right;\">\n",
       "      <th></th>\n",
       "      <th>Date</th>\n",
       "      <th>EFg%</th>\n",
       "      <th>ORtg</th>\n",
       "      <th>DRtg</th>\n",
       "      <th>Pace</th>\n",
       "      <th>FTAr</th>\n",
       "      <th>3PAr</th>\n",
       "      <th>TS%</th>\n",
       "      <th>TRB%</th>\n",
       "      <th>AST%</th>\n",
       "      <th>STL%</th>\n",
       "      <th>BLK%</th>\n",
       "      <th>TOV%</th>\n",
       "      <th>ORB%</th>\n",
       "      <th>FT/FGA</th>\n",
       "      <th>Opp_EFg%</th>\n",
       "      <th>Opp_TOV%</th>\n",
       "      <th>Opp_FT/FGA</th>\n",
       "    </tr>\n",
       "  </thead>\n",
       "  <tbody>\n",
       "  </tbody>\n",
       "</table>\n",
       "</div>"
      ],
      "text/plain": [
       "Empty DataFrame\n",
       "Columns: [Date, EFg%, ORtg, DRtg, Pace, FTAr, 3PAr, TS%, TRB%, AST%, STL%, BLK%, TOV%, ORB%, FT/FGA, Opp_EFg%, Opp_TOV%, Opp_FT/FGA]\n",
       "Index: []"
      ]
     },
     "execution_count": 47,
     "metadata": {},
     "output_type": "execute_result"
    }
   ],
   "source": [
    "columns = ['Date', 'EFg%', 'ORtg', 'DRtg', 'Pace', 'FTAr', '3PAr', 'TS%', 'TRB%', 'AST%', 'STL%', 'BLK%', 'TOV%', 'ORB%', 'FT/FGA', 'Opp_EFg%', 'Opp_TOV%', 'Opp_FT/FGA']"
   ]
  },
  {
   "cell_type": "code",
   "execution_count": 48,
   "id": "a82ba3f9",
   "metadata": {},
   "outputs": [],
   "source": [
    "new_row_formulas = {\n",
    "    \"Date\": lambda df: df['Date'],\n",
    "    \"EFg%\": lambda df: (df['FG'] + 0.5 * df['3P']) / df['FGA'],\n",
    "    \"ORtg\": lambda df: (df['Tm'] / (df['FGA'] + 0.4 * df['FTA'] + df['TOV'])) * 100,\n",
    "    \"DRtg\": lambda df: (df['Opp'] / (df['FGA.1'] + 0.4 * df['FTA.1'] + df['TOV.1'])) * 100,\n",
    "    \"Pace\": lambda df: ((df['FGA'] + 0.4 * df['FTA'] + df['TOV']) / 40),\n",
    "    \"FTAr\": lambda df: (df['FTA'] / df['FGA']),\n",
    "    \"3PAr\": lambda df: (df['3P'] / df['FGA']),\n",
    "    \"TS%\": lambda df: (df['Tm'] / (2 * (df['FGA'] + 0.44 * df['FTA']))) * 100,\n",
    "    \"AST%\": lambda df: (df['AST'] / df['FG']) * 100,\n",
    "    \"STL%\": lambda df: (df['STL'] / (df['FGA.1'] + 0.4 * df['FTA.1'] + df['TOV.1'])) * 100,\n",
    "    \"BLK%\": lambda df: (df['BLK'] / df['FGA.1']) * 100,\n",
    "    \"TOV%\": lambda df: (df['TOV'] / (df['FGA'] + 0.44 * df['FTA'] + df['TOV'])) * 100,\n",
    "    \"ORB%\": lambda df: (df['ORB'] / (df['ORB'] + df['Opp_DRB'])) * 100,\n",
    "    \"FT/FGA\": lambda df: (df['FT'] / df['FGA']),\n",
    "    \"Opp_EFg%\": lambda df: (df['FG.1'] + 0.5 * df['3P.1']) / df['FGA.1'],\n",
    "    \"Opp_TOV%\": lambda df: (df['TOV.1'] / (df['FGA.1'] + 0.44 * df['FTA.1'] + df['TOV.1'])) * 100,\n",
    "    \"Opp_FT/FGA\": lambda df: (df['FT.1'] / df['FGA.1'])\n",
    "}"
   ]
  }
 ],
 "metadata": {
  "kernelspec": {
   "display_name": "Python 3 (ipykernel)",
   "language": "python",
   "name": "python3"
  },
  "language_info": {
   "codemirror_mode": {
    "name": "ipython",
    "version": 3
   },
   "file_extension": ".py",
   "mimetype": "text/x-python",
   "name": "python",
   "nbconvert_exporter": "python",
   "pygments_lexer": "ipython3",
   "version": "3.10.11"
  }
 },
 "nbformat": 4,
 "nbformat_minor": 5
}
