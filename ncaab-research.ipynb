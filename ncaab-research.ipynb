{
 "cells": [
  {
   "cell_type": "code",
   "execution_count": 2,
   "id": "50c2a9e7",
   "metadata": {},
   "outputs": [],
   "source": [
    "import copy, math\n",
    "import pandas as pd\n",
    "import numpy as np\n",
    "import matplotlib.pyplot as plt\n",
    "\n",
    "import os"
   ]
  },
  {
   "cell_type": "code",
   "execution_count": 4,
   "id": "819e1a94",
   "metadata": {},
   "outputs": [
    {
     "name": "stdout",
     "output_type": "stream",
     "text": [
      "c:\\Users\\lakea\\Desktop\\Notes\\OMO-ML\\ncaab\n"
     ]
    }
   ],
   "source": [
    "ncaab_2021_df = pd.read_csv('2021_team_results.csv')\n",
    "ncaab_2022_df = pd.read_csv('2022_team_results.csv')\n",
    "ncaab_2023_df = pd.read_csv('2023_team_results.csv')\n",
    "ncaab_2024_df = pd.read_csv('2024_team_results.csv')\n",
    "\n",
    "#test here\n",
    "print(os.getcwd())\n",
    "test_df = pd.read_csv(\"c:\\Users\\lakea\\Desktop\\Notes\\OMO-ML\\\\nfl\\\\2021_team_results.csv\")"
   ]
  },
  {
   "cell_type": "code",
   "execution_count": null,
   "id": "96ae0002",
   "metadata": {},
   "outputs": [],
   "source": [
    "test_df"
   ]
  },
  {
   "cell_type": "code",
   "execution_count": null,
   "id": "26506eb3",
   "metadata": {},
   "outputs": [],
   "source": []
  },
  {
   "cell_type": "code",
   "execution_count": null,
   "id": "ed89e583",
   "metadata": {},
   "outputs": [],
   "source": []
  }
 ],
 "metadata": {
  "kernelspec": {
   "display_name": "Python 3 (ipykernel)",
   "language": "python",
   "name": "python3"
  },
  "language_info": {
   "codemirror_mode": {
    "name": "ipython",
    "version": 3
   },
   "file_extension": ".py",
   "mimetype": "text/x-python",
   "name": "python",
   "nbconvert_exporter": "python",
   "pygments_lexer": "ipython3",
   "version": "3.10.11"
  }
 },
 "nbformat": 4,
 "nbformat_minor": 5
}
